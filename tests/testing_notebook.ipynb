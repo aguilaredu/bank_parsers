{
 "cells": [
  {
   "cell_type": "code",
   "execution_count": 18,
   "metadata": {},
   "outputs": [],
   "source": [
    "import pandas as pd\n",
    "import numpy as np"
   ]
  },
  {
   "cell_type": "code",
   "execution_count": 6,
   "metadata": {},
   "outputs": [],
   "source": [
    "csv_path = '../test_data/bac_cc_statement.csv'\n",
    "df_stmt = pd.read_csv(csv_path, header=None)"
   ]
  },
  {
   "cell_type": "code",
   "execution_count": 13,
   "metadata": {},
   "outputs": [],
   "source": [
    "# It seems that only rows with dates are valid entries.\n",
    "test = df_stmt\n",
    "# test.iloc[:, 0] = pd.to_datetime(test.iloc[:, 0], format='%d/%m/%Y', errors='coerce') \n",
    "test[0] = pd.to_datetime(test[0], format='%d/%m/%Y', errors='coerce') \n"
   ]
  },
  {
   "cell_type": "code",
   "execution_count": 14,
   "metadata": {},
   "outputs": [],
   "source": [
    "test2 = test.dropna(subset=[0])"
   ]
  },
  {
   "cell_type": "code",
   "execution_count": 26,
   "metadata": {},
   "outputs": [],
   "source": [
    "test3 = test2.drop(labels=[4,5,6,7,8], axis=1)"
   ]
  },
  {
   "cell_type": "code",
   "execution_count": 27,
   "metadata": {},
   "outputs": [],
   "source": [
    "test4 = test3.copy()\n",
    "test4[2] = pd.to_numeric(test4[2], errors='coerce')\n",
    "test4[3] = pd.to_numeric(test4[3], errors='coerce')\n",
    "test4['currency'] = np.where(test4[3]==0, 'HNL', 'USD')"
   ]
  },
  {
   "cell_type": "code",
   "execution_count": null,
   "metadata": {},
   "outputs": [],
   "source": []
  }
 ],
 "metadata": {
  "kernelspec": {
   "display_name": "venv",
   "language": "python",
   "name": "python3"
  },
  "language_info": {
   "codemirror_mode": {
    "name": "ipython",
    "version": 3
   },
   "file_extension": ".py",
   "mimetype": "text/x-python",
   "name": "python",
   "nbconvert_exporter": "python",
   "pygments_lexer": "ipython3",
   "version": "3.11.3"
  },
  "orig_nbformat": 4
 },
 "nbformat": 4,
 "nbformat_minor": 2
}
